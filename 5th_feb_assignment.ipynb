{
 "cells": [
  {
   "attachments": {},
   "cell_type": "markdown",
   "metadata": {},
   "source": [
    "Q1"
   ]
  },
  {
   "attachments": {},
   "cell_type": "markdown",
   "metadata": {},
   "source": [
    "Class: A class is a user-defined data type that contains the operations that manipulate the data and the data\n",
    " itself(attributes). It provides an object creation blueprint. The behaviour of the object is represented by the methods,\n",
    "  and its state is represented by its attributes.\n",
    "Object: An instance of a class is called an object. It is a real-world object that is distinguishable by its distinct identity, condition, and behaviour. Based on the behaviour and structure specified in the class, objects are produced."
   ]
  },
  {
   "cell_type": "code",
   "execution_count": 1,
   "metadata": {},
   "outputs": [
    {
     "name": "stdout",
     "output_type": "stream",
     "text": [
      "Buddy is a Canis familiaris. Buddy is 3 years old.\n",
      "Max is a Canis familiaris. Max is 5 years old.\n",
      "Buddy says Buddy says Woof\n"
     ]
    }
   ],
   "source": [
    "class Dog:\n",
    "    \n",
    "    species = \"Canis familiaris\"\n",
    "\n",
    "    def __init__(self, name, age):\n",
    "        self.name = name\n",
    "        self.age = age\n",
    "\n",
    "    def description(self):\n",
    "        return f\"{self.name} is {self.age} years old.\"\n",
    "\n",
    "    def speak(self, sound):\n",
    "        return f\"{self.name} says {sound}\"\n",
    "\n",
    "dog1 = Dog(\"Buddy\", 3)\n",
    "dog2 = Dog(\"Max\", 5)\n",
    "\n",
    "print(f\"{dog1.name} is a {dog1.species}. {dog1.description()}\")\n",
    "print(f\"{dog2.name} is a {dog2.species}. {dog2.description()}\")\n",
    "print(f\"{dog1.name} says {dog1.speak('Woof')}\")\n",
    "\n"
   ]
  },
  {
   "attachments": {},
   "cell_type": "markdown",
   "metadata": {},
   "source": [
    "Q2"
   ]
  },
  {
   "attachments": {},
   "cell_type": "markdown",
   "metadata": {},
   "source": [
    "The four pillars of oops is \n",
    "1.Encapsulation\n",
    "2.Abstraction\n",
    "3.Inheritance\n",
    "4.polymorphism"
   ]
  },
  {
   "attachments": {},
   "cell_type": "markdown",
   "metadata": {},
   "source": [
    "Q3"
   ]
  },
  {
   "attachments": {},
   "cell_type": "markdown",
   "metadata": {},
   "source": [
    "In Python, the __init__ method  is a special method used for initializing the attributes of an object when it is created. It is automatically called when an object is instantiated from a class."
   ]
  },
  {
   "cell_type": "code",
   "execution_count": 2,
   "metadata": {},
   "outputs": [],
   "source": [
    "class Dog:\n",
    "    def __init__(self, name, age):\n",
    "        self.name = name\n",
    "        self.age = age\n"
   ]
  },
  {
   "attachments": {},
   "cell_type": "markdown",
   "metadata": {},
   "source": [
    "Q4"
   ]
  },
  {
   "attachments": {},
   "cell_type": "markdown",
   "metadata": {},
   "source": [
    "In object-oriented programming , self is a convention used in many programming languages, including Python, to refer to the instance of the class within its own methods. It is a way for the object to reference itself and access its attributes and methods. The use of self is particularly prevalent in Python."
   ]
  },
  {
   "attachments": {},
   "cell_type": "markdown",
   "metadata": {},
   "source": [
    "Q5"
   ]
  },
  {
   "attachments": {},
   "cell_type": "markdown",
   "metadata": {},
   "source": [
    "Inheritance is a fundamental concept in object-oriented programming (OOP) that allows a new class (subclass or derived class) to inherit properties and behaviors from an existing class (superclass or base class). This promotes code reuse and establishes a relationship between classes."
   ]
  },
  {
   "attachments": {},
   "cell_type": "markdown",
   "metadata": {},
   "source": [
    "Single Inheritance:\n",
    "\n",
    "In single inheritance, a subclass inherits from only one superclass. It forms a linear hierarchy."
   ]
  },
  {
   "cell_type": "code",
   "execution_count": 4,
   "metadata": {},
   "outputs": [
    {
     "name": "stdout",
     "output_type": "stream",
     "text": [
      "sound\n",
      "bhaw bhow\n"
     ]
    }
   ],
   "source": [
    "class Animal:\n",
    "    def sounds(self):\n",
    "        print(\"sound\")\n",
    "\n",
    "class Dog(Animal):\n",
    "    def barking(self):\n",
    "        print(\"bhaw bhow\")\n",
    "\n",
    "\n",
    "my_dog = Dog()\n",
    "my_dog.sounds()  \n",
    "my_dog.barking()   \n"
   ]
  },
  {
   "attachments": {},
   "cell_type": "markdown",
   "metadata": {},
   "source": [
    "Multiple Inheritance:\n",
    "\n",
    "In multiple inheritance, a subclass inherits from more than one superclass. It allows a class to inherit from multiple classes, forming a diamond-shaped hierarchy."
   ]
  },
  {
   "cell_type": "code",
   "execution_count": 5,
   "metadata": {},
   "outputs": [
    {
     "name": "stdout",
     "output_type": "stream",
     "text": [
      "class A\n",
      "class B\n",
      "class C\n"
     ]
    }
   ],
   "source": [
    "class A:\n",
    "    def A(self):\n",
    "        print(\"class A\")\n",
    "\n",
    "class B:\n",
    "    def B(self):\n",
    "        print(\"class B\")\n",
    "\n",
    "class C(A, B):\n",
    "    def C(self):\n",
    "        print(\"class C\")\n",
    "\n",
    "\n",
    "my_object = C()\n",
    "my_object.A()  \n",
    "my_object.B()  \n",
    "my_object.C()  \n"
   ]
  },
  {
   "attachments": {},
   "cell_type": "markdown",
   "metadata": {},
   "source": [
    "Multilevel Inheritance:\n",
    "\n",
    "In multilevel inheritance, a subclass inherits from another subclass, forming a chain of inheritance."
   ]
  },
  {
   "cell_type": "code",
   "execution_count": 7,
   "metadata": {},
   "outputs": [
    {
     "name": "stdout",
     "output_type": "stream",
     "text": [
      "Vehicle started\n",
      "Car driving\n",
      "car  racing\n"
     ]
    }
   ],
   "source": [
    "class Vehicle:\n",
    "    def start(self):\n",
    "        print(\"Vehicle started\")\n",
    "\n",
    "class Car(Vehicle):\n",
    "    def drive(self):\n",
    "        print(\"Car driving\")\n",
    "\n",
    "class SportsCar(Car):\n",
    "    def race(self):\n",
    "        print(\"car  racing\")\n",
    "\n",
    "\n",
    "my_sports_car = SportsCar()\n",
    "my_sports_car.start()  \n",
    "my_sports_car.drive()  \n",
    "my_sports_car.race()  \n"
   ]
  },
  {
   "cell_type": "code",
   "execution_count": null,
   "metadata": {},
   "outputs": [],
   "source": []
  }
 ],
 "metadata": {
  "kernelspec": {
   "display_name": "Python 3",
   "language": "python",
   "name": "python3"
  },
  "language_info": {
   "codemirror_mode": {
    "name": "ipython",
    "version": 3
   },
   "file_extension": ".py",
   "mimetype": "text/x-python",
   "name": "python",
   "nbconvert_exporter": "python",
   "pygments_lexer": "ipython3",
   "version": "3.11.5"
  },
  "orig_nbformat": 4,
  "vscode": {
   "interpreter": {
    "hash": "4dc2eff154461ccf66dfd7130a8b76b3e939e60f89130c0ea724503c8de4894d"
   }
  }
 },
 "nbformat": 4,
 "nbformat_minor": 2
}
