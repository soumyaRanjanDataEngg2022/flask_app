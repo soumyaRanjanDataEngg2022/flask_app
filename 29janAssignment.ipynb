{
 "cells": [
  {
   "attachments": {},
   "cell_type": "markdown",
   "metadata": {},
   "source": [
    "Q1"
   ]
  },
  {
   "attachments": {},
   "cell_type": "markdown",
   "metadata": {},
   "source": [
    "Guido Van Rossum "
   ]
  },
  {
   "attachments": {},
   "cell_type": "markdown",
   "metadata": {},
   "source": [
    "Q2"
   ]
  },
  {
   "attachments": {},
   "cell_type": "markdown",
   "metadata": {},
   "source": [
    "1.procedural programming\n",
    "2.object oriented programming\n",
    "3.Functional programming\n",
    "4.imperative programming\n",
    "5.Aspect oriented programming\n"
   ]
  },
  {
   "attachments": {},
   "cell_type": "markdown",
   "metadata": {},
   "source": [
    "Q3"
   ]
  },
  {
   "attachments": {},
   "cell_type": "markdown",
   "metadata": {},
   "source": [
    "Yes python is case sensitive while dealing with odentifiers"
   ]
  },
  {
   "attachments": {},
   "cell_type": "markdown",
   "metadata": {},
   "source": [
    "Q4"
   ]
  },
  {
   "attachments": {},
   "cell_type": "markdown",
   "metadata": {},
   "source": [
    ".py"
   ]
  },
  {
   "attachments": {},
   "cell_type": "markdown",
   "metadata": {},
   "source": [
    "Q5"
   ]
  },
  {
   "attachments": {},
   "cell_type": "markdown",
   "metadata": {},
   "source": [
    "python is both compiled and interpreted which is called hybrid"
   ]
  },
  {
   "attachments": {},
   "cell_type": "markdown",
   "metadata": {},
   "source": [
    "Q6"
   ]
  },
  {
   "attachments": {},
   "cell_type": "markdown",
   "metadata": {},
   "source": [
    "Function ,conditional statements ,loops,class and methods,exception handling"
   ]
  },
  {
   "attachments": {},
   "cell_type": "markdown",
   "metadata": {},
   "source": [
    "Q7"
   ]
  },
  {
   "attachments": {},
   "cell_type": "markdown",
   "metadata": {},
   "source": [
    "'#' is used for single line comment"
   ]
  },
  {
   "attachments": {},
   "cell_type": "markdown",
   "metadata": {},
   "source": [
    "Q8"
   ]
  },
  {
   "attachments": {},
   "cell_type": "markdown",
   "metadata": {},
   "source": [
    "python --version this command is used to get the version of python using commandline"
   ]
  },
  {
   "attachments": {},
   "cell_type": "markdown",
   "metadata": {},
   "source": [
    "Q9"
   ]
  },
  {
   "attachments": {},
   "cell_type": "markdown",
   "metadata": {},
   "source": [
    "it is called lambda function"
   ]
  },
  {
   "attachments": {},
   "cell_type": "markdown",
   "metadata": {},
   "source": [
    "Q10"
   ]
  },
  {
   "attachments": {},
   "cell_type": "markdown",
   "metadata": {},
   "source": [
    "pip=prefered installer package"
   ]
  },
  {
   "attachments": {},
   "cell_type": "markdown",
   "metadata": {},
   "source": [
    "Q11"
   ]
  },
  {
   "attachments": {},
   "cell_type": "markdown",
   "metadata": {},
   "source": [
    "print() \n",
    "len()\n",
    "input()\n",
    "max()\n",
    "min()"
   ]
  },
  {
   "attachments": {},
   "cell_type": "markdown",
   "metadata": {},
   "source": [
    "Q12"
   ]
  },
  {
   "attachments": {},
   "cell_type": "markdown",
   "metadata": {},
   "source": [
    "unlimited"
   ]
  },
  {
   "attachments": {},
   "cell_type": "markdown",
   "metadata": {},
   "source": [
    "Q13"
   ]
  },
  {
   "attachments": {},
   "cell_type": "markdown",
   "metadata": {},
   "source": [
    "Readability and Simplicity,Extensive Standard Library,Community Support,Versatility and Portability\n"
   ]
  },
  {
   "attachments": {},
   "cell_type": "markdown",
   "metadata": {},
   "source": [
    "Q14"
   ]
  },
  {
   "attachments": {},
   "cell_type": "markdown",
   "metadata": {},
   "source": [
    "Python has automated memory management, which makes use of trash collection and reference counting. Memory is freed up when the number of references to an object is zero, which is tracked via reference counting. Garbage collection effectively maintains memory pools for object allocation and deals with circular references. Efficient memory consumption is facilitated by Python's memory optimisation mechanisms, such as object and string interning. Programmatic control is provided by the gc module, and memory profiling tools help engineers find leaks and trends in the system. All things considered, Python's memory management makes development easier and emphasises automated memory handling for higher productivity."
   ]
  },
  {
   "attachments": {},
   "cell_type": "markdown",
   "metadata": {},
   "source": [
    "Q15"
   ]
  },
  {
   "attachments": {},
   "cell_type": "markdown",
   "metadata": {},
   "source": [
    "Download Python:\n",
    "\n",
    "Visit the official Python website (https://www.python.org/).\n",
    "Navigate to the \"Downloads\" section.\n",
    "Download the latest version of Python for Windows (usually an executable installer with a .exe extension).\n",
    "Run the Installer:\n",
    "\n",
    "Double-click the downloaded installer (.exe file).\n",
    "Check the box that says \"Add Python to PATH\" during installation. This automatically sets the PATH environment variable for you.\n",
    "Click \"Install Now\" to start the installation.\n",
    "Verify Installation:\n",
    "\n",
    "Open a Command Prompt (cmd) or PowerShell window.\n",
    "Type python --version or python -V and press Enter to check the Python version.\n",
    "Type pip --version or pip -V and press Enter to check the pip version.\n",
    "Setting PATH Manually (Optional):\n",
    "\n",
    "If, for some reason, you didn't check the \"Add Python to PATH\" option during installation, you can set the PATH variable manually:\n",
    "Find the location where Python is installed (usually in C:\\Users\\<Username>\\AppData\\Local\\Programs\\Python\\Python<version>).\n",
    "Copy this path.\n",
    "Right-click on \"This PC\" or \"Computer\" on your desktop or in File Explorer.\n",
    "Select \"Properties\" -> \"Advanced system settings\" -> \"Environment Variables.\"\n",
    "Under \"System variables,\" find and select the \"Path\" variable, then click \"Edit.\"\n",
    "Click \"New\" and add the path to the Python installation directory.\n",
    "Click \"OK\" to close each window.\n",
    "Verify PATH Configuration:\n",
    "\n",
    "Open a new Command Prompt or PowerShell window.\n",
    "Type python --version or python -V and press Enter to verify that Python is recognized.\n",
    "Type pip --version or pip -V to check that pip is recognized."
   ]
  },
  {
   "attachments": {},
   "cell_type": "markdown",
   "metadata": {},
   "source": [
    "Q16"
   ]
  },
  {
   "attachments": {},
   "cell_type": "markdown",
   "metadata": {},
   "source": [
    "yes indentation is required because it does not supports curly braces so to create a block of code indentation is required"
   ]
  },
  {
   "cell_type": "code",
   "execution_count": null,
   "metadata": {},
   "outputs": [],
   "source": []
  },
  {
   "attachments": {},
   "cell_type": "markdown",
   "metadata": {},
   "source": []
  }
 ],
 "metadata": {
  "language_info": {
   "name": "python"
  },
  "orig_nbformat": 4
 },
 "nbformat": 4,
 "nbformat_minor": 2
}
